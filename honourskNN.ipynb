{
  "nbformat": 4,
  "nbformat_minor": 0,
  "metadata": {
    "colab": {
      "name": "honourskNN.ipynb",
      "provenance": []
    },
    "kernelspec": {
      "name": "python3",
      "display_name": "Python 3"
    },
    "language_info": {
      "name": "python"
    }
  },
  "cells": [
    {
      "cell_type": "markdown",
      "metadata": {
        "id": "NtaNEGAU2Sfa"
      },
      "source": [
        "# Import libraries, import dataset\n"
      ]
    },
    {
      "cell_type": "markdown",
      "metadata": {
        "id": "hWeinz5L5aJ6"
      },
      "source": [
        "Implemented using resources available in the CM4107 Advanced Artificial Intelligence"
      ]
    },
    {
      "cell_type": "code",
      "metadata": {
        "id": "95YGVBy62F_c"
      },
      "source": [
        "import numpy as np\n",
        "import pandas as pd\n",
        "import scipy.special\n",
        "import operator\n",
        "import random\n",
        "import matplotlib.pyplot as plt\n",
        "from sklearn.metrics import mean_squared_error, mean_absolute_error, explained_variance_score\n",
        "from google.colab import files"
      ],
      "execution_count": null,
      "outputs": []
    },
    {
      "cell_type": "code",
      "metadata": {
        "id": "Wk2ZsQRR2LOF"
      },
      "source": [
        "uploaded = files.upload()\n",
        "data_file = \"HPDataset - Copy - Copy.csv\"\n",
        "class_index = 10"
      ],
      "execution_count": null,
      "outputs": []
    },
    {
      "cell_type": "code",
      "metadata": {
        "id": "2OsnOhwQ2Ouu"
      },
      "source": [
        "def load_dataset(filename, class_idx=class_index, split=0.8):\n",
        "    dataframe = pd.read_csv(filename)\n",
        "    instances = dataframe.values\n",
        "    \n",
        "\n",
        "    print (\"Class Index: \"+str(class_idx))\n",
        "    X = instances[:,0:class_idx] \n",
        "    Y = instances[:,class_idx] \n",
        "    \n",
        "   \n",
        "    X_train = [] \n",
        "    Y_train = [] \n",
        "    X_test = [] \n",
        "    Y_test = [] \n",
        "    \n",
        "    for  x, y in zip(X, Y): \n",
        "        if random.random() < split:\n",
        "            X_train.append(x)\n",
        "            Y_train.append(y)\n",
        "        else:\n",
        "            X_test.append(x)\n",
        "            Y_test.append(y)       \n",
        "    \n",
        "    return X_train, Y_train, X_test, Y_test"
      ],
      "execution_count": null,
      "outputs": []
    },
    {
      "cell_type": "markdown",
      "metadata": {
        "id": "xbB6Kl2X2eU7"
      },
      "source": [
        "# Declare distance calculation metrics\n"
      ]
    },
    {
      "cell_type": "code",
      "metadata": {
        "id": "Fq6H4DIm2nSv"
      },
      "source": [
        "def euclidean(instance1, instance2):\n",
        "        distance = 0\n",
        "        for val1, val2 in zip(instance1, instance2):            \n",
        "            distance += pow((val1 - val2), 2)\n",
        "        distance = pow(distance, 1/2)             \n",
        "        return 1 / (1+ distance)\n",
        "    \n",
        "\n",
        "def manhattan(instance1, instance2):\n",
        "        distance = 0\n",
        "        for val1, val2 in zip(instance1, instance2):\n",
        "            distance += abs(val1 - val2)          \n",
        "        return 1 / (1+ distance)\n",
        "    "
      ],
      "execution_count": null,
      "outputs": []
    },
    {
      "cell_type": "markdown",
      "metadata": {
        "id": "tl_fJ_sU2gPI"
      },
      "source": [
        "# Define k-NN model"
      ]
    },
    {
      "cell_type": "code",
      "metadata": {
        "id": "cjWIn7TV2pLb"
      },
      "source": [
        "def accuracy(prediction, true):\n",
        "        mae = mean_absolute_error(true, prediction)\n",
        "        return mae\n",
        "\n",
        "class kNN:\n",
        "    def __init__(self, X_train, Y_train, k=3, sim=manhattan):\n",
        "        self.X_train = X_train\n",
        "        self.Y_train = Y_train\n",
        "        self.k = k \n",
        "        self.similarity = sim \n",
        "        \n",
        "        #store results from testing \n",
        "        self.results= []\n",
        "        \n",
        "    def get_neighbours(self, test_instance):\n",
        "        similarities = []\n",
        "\n",
        "        for train_instance, y in zip(self.X_train, self.Y_train):\n",
        "            sim = self.similarity(test_instance, train_instance)\n",
        "            \n",
        "            similarities.append((y, sim))\n",
        "            \n",
        "        similarities.sort(key = operator.itemgetter(1), reverse = True) \n",
        "        neighbours = []\n",
        "        for x in range(self.k):\n",
        "            neighbours.append(similarities[x])\n",
        "\n",
        "        return neighbours\n",
        "\n",
        "    def predict(self, neighbours):\n",
        "        class_votes = {}\n",
        "        for x in range(len(neighbours)):\n",
        "            response = neighbours[x][0]\n",
        "            if response in class_votes:\n",
        "                class_votes[response] += 1         \n",
        "            else:\n",
        "                class_votes[response] = 1\n",
        "                \n",
        "        sorted_votes = sorted(class_votes, key = lambda k: (class_votes[k], k), reverse = True)\n",
        "        return sorted_votes[0]\n",
        "    \n",
        "    def test(self, X_test, Y_test):\n",
        "        self.results = []\n",
        "        self.prediction = []\n",
        "        self.true = []\n",
        "\n",
        "        for test_instance, target_label in zip(X_test, Y_test):\n",
        "            neighbours = self.get_neighbours(test_instance)\n",
        "            predict_label = self.predict(neighbours)\n",
        "            self.results.append([predict_label, target_label])\n",
        "            self.prediction.append([predict_label])\n",
        "            self.true.append([target_label])\n",
        "    "
      ],
      "execution_count": null,
      "outputs": []
    },
    {
      "cell_type": "markdown",
      "metadata": {
        "id": "-q9LNQMZ2p_L"
      },
      "source": [
        "# Test hyperparameters\n"
      ]
    },
    {
      "cell_type": "code",
      "metadata": {
        "id": "UBv7smNR249U"
      },
      "source": [
        "k_values = [1, 3, 5, 8, 10, 15, 30, 60, 120]\n",
        "\n",
        "results = []\n",
        "for k in k_values:\n",
        "    knn = kNN(X_train, Y_train, k=k)\n",
        "    knn.test(X_test, Y_test)\n",
        "    results.append(accuracy(knn.prediction, Y_test))"
      ],
      "execution_count": null,
      "outputs": []
    },
    {
      "cell_type": "code",
      "metadata": {
        "id": "GINYgo6C2_Mt"
      },
      "source": [
        "objects = k_values\n",
        "y_pos = np.arange(len(objects))\n",
        "performance = results\n",
        " \n",
        "plt.bar(y_pos, performance, align='center', alpha=0.5)\n",
        "plt.xticks(y_pos, objects)\n",
        "plt.ylim(0, max(performance))\n",
        "plt.ylabel('MAE')\n",
        "plt.xlabel('K-Value')\n",
        "plt.title('K-Value Test')\n",
        " \n",
        "plt.show()"
      ],
      "execution_count": null,
      "outputs": []
    },
    {
      "cell_type": "code",
      "metadata": {
        "id": "1fRfhNW83Af1"
      },
      "source": [
        "sims = [euclidean, manhattan]\n",
        "\n",
        "results = []\n",
        "for sim in sims:\n",
        "    knn = kNN(X_train, Y_train, sim=sim, k=15)\n",
        "    knn.test(X_test, Y_test)\n",
        "    results.append(accuracy(knn.prediction, Y_test))"
      ],
      "execution_count": null,
      "outputs": []
    },
    {
      "cell_type": "code",
      "metadata": {
        "id": "6u5jlxBf3Fwg"
      },
      "source": [
        "objects = ['euclidean', 'manhattan']\n",
        "y_pos = np.arange(len(objects))\n",
        "performance = results\n",
        " \n",
        "plt.bar(y_pos, performance, align='center', alpha=0.5)\n",
        "plt.xticks(y_pos, objects)\n",
        "plt.ylim(0, max(performance)+1)\n",
        "plt.ylabel('MAE')\n",
        "plt.title('Distance Calculator Test')\n",
        " \n",
        "plt.show()"
      ],
      "execution_count": null,
      "outputs": []
    }
  ]
}